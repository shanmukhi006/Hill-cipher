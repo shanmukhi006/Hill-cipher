{
  "nbformat": 4,
  "nbformat_minor": 0,
  "metadata": {
    "colab": {
      "provenance": []
    },
    "kernelspec": {
      "name": "python3",
      "display_name": "Python 3"
    },
    "language_info": {
      "name": "python"
    }
  },
  "cells": [
    {
      "cell_type": "code",
      "source": [],
      "metadata": {
        "id": "KfsBqNrBlUnb"
      },
      "execution_count": null,
      "outputs": []
    },
    {
      "cell_type": "markdown",
      "source": [],
      "metadata": {
        "id": "QoXuO6KklZ1_"
      }
    },
    {
      "cell_type": "code",
      "execution_count": 2,
      "metadata": {
        "colab": {
          "base_uri": "https://localhost:8080/"
        },
        "id": "UOjWDnyYkig2",
        "outputId": "399536fc-c781-41a2-dc0f-332cbd07d1dd"
      },
      "outputs": [
        {
          "output_type": "stream",
          "name": "stdout",
          "text": [
            "Enter plaintext: heat\n",
            "Encrypted: HIFR\n",
            "Decrypted: HEAT\n"
          ]
        }
      ],
      "source": [
        "import numpy as np\n",
        "\n",
        "def mod_inverse(a, m):\n",
        "    for i in range(1, m):\n",
        "        if (a * i) % m == 1:\n",
        "            return i\n",
        "    return None\n",
        "\n",
        "def encrypt(text, key):\n",
        "    text = text.upper().replace(\" \", \"\")\n",
        "    while len(text) % 2 != 0:\n",
        "        text += 'X'  # Padding if text length is not even\n",
        "\n",
        "    key_matrix = np.array(key)\n",
        "    if key_matrix.shape != (2, 2):\n",
        "        raise ValueError(\"Key matrix must be 2x2\")\n",
        "\n",
        "    text_vector = [[ord(text[i]) - 65, ord(text[i + 1]) - 65] for i in range(0, len(text), 2)]\n",
        "\n",
        "    encrypted_text = \"\"\n",
        "    for pair in text_vector:\n",
        "        result = np.dot(key_matrix, pair) % 26\n",
        "        encrypted_text += chr(result[0] + 65) + chr(result[1] + 65)\n",
        "\n",
        "    return encrypted_text\n",
        "\n",
        "def decrypt(text, key):\n",
        "    key_matrix = np.array(key)\n",
        "    det = int(np.linalg.det(key_matrix))\n",
        "    det_inv = mod_inverse(det % 26, 26)\n",
        "\n",
        "    if det_inv is None:\n",
        "        raise ValueError(\"Key matrix is not invertible under mod 26\")\n",
        "\n",
        "    adjugate_matrix = np.array([[key_matrix[1, 1], -key_matrix[0, 1]],\n",
        "                                [-key_matrix[1, 0], key_matrix[0, 0]]])\n",
        "\n",
        "    inverse_key_matrix = (det_inv * adjugate_matrix) % 26\n",
        "    inverse_key_matrix = inverse_key_matrix.astype(int)\n",
        "\n",
        "    text_vector = [[ord(text[i]) - 65, ord(text[i + 1]) - 65] for i in range(0, len(text), 2)]\n",
        "\n",
        "    decrypted_text = \"\"\n",
        "    for pair in text_vector:\n",
        "        result = np.dot(inverse_key_matrix, pair) % 26\n",
        "        decrypted_text += chr(result[0] + 65) + chr(result[1] + 65)\n",
        "\n",
        "    return decrypted_text\n",
        "\n",
        "# User input\n",
        "key = [[3, 3], [2, 5]]  # Key matrix should be invertible in mod 26\n",
        "plaintext = input(\"Enter plaintext: \")\n",
        "ciphertext = encrypt(plaintext, key)\n",
        "print(\"Encrypted:\", ciphertext)\n",
        "decrypted = decrypt(ciphertext, key)\n",
        "print(\"Decrypted:\", decrypted)\n"
      ]
    }
  ]
}